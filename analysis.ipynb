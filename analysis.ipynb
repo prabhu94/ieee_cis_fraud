{
 "cells": [
  {
   "cell_type": "code",
   "execution_count": 1,
   "metadata": {},
   "outputs": [
    {
     "name": "stdout",
     "output_type": "stream",
     "text": [
      "/Users/prabhatturlapati/.matplotlib\n"
     ]
    }
   ],
   "source": [
    "import matplotlib as mpl\n",
    "print(mpl.get_cachedir())"
   ]
  },
  {
   "cell_type": "code",
   "execution_count": 2,
   "metadata": {},
   "outputs": [],
   "source": [
    "# Imports\n",
    "\n",
    "import pandas as pd\n",
    "import numpy as np\n",
    "import matplotlib.pyplot as plt\n",
    "import pandas_profiling as pp\n",
    "\n"
   ]
  },
  {
   "cell_type": "code",
   "execution_count": 3,
   "metadata": {},
   "outputs": [],
   "source": [
    "#load data\n",
    "\n",
    "train_identity = pd.read_csv(\"data/train_identity.csv\")\n",
    "train_transaction = pd.read_csv(\"data/train_transaction.csv\")\n",
    "test_identity = pd.read_csv(\"data/test_identity.csv\")\n",
    "test_transaction = pd.read_csv(\"data/test_transaction.csv\")\n"
   ]
  },
  {
   "cell_type": "code",
   "execution_count": 4,
   "metadata": {},
   "outputs": [
    {
     "name": "stdout",
     "output_type": "stream",
     "text": [
      "train_transaction: (590540, 394) *** train_identity: (144233, 41)\n",
      "test_transaction: (506691, 393) *** test_identity: (141907, 41)\n"
     ]
    }
   ],
   "source": [
    "print(\"train_transaction: \"+str(train_transaction.shape)+\" *** train_identity: \"+str(train_identity.shape))\n",
    "print(\"test_transaction: \"+str(test_transaction.shape)+\" *** test_identity: \"+str(test_identity.shape))\n",
    "\n"
   ]
  },
  {
   "cell_type": "code",
   "execution_count": 5,
   "metadata": {},
   "outputs": [],
   "source": [
    "train = train_transaction.join(train_identity.set_index('TransactionID'), on=['TransactionID'], how='left')\n",
    "test = test_transaction.join(test_identity.set_index('TransactionID'), on=['TransactionID'], how='left')"
   ]
  },
  {
   "cell_type": "code",
   "execution_count": 116,
   "metadata": {},
   "outputs": [
    {
     "data": {
      "text/html": [
       "<div>\n",
       "<style scoped>\n",
       "    .dataframe tbody tr th:only-of-type {\n",
       "        vertical-align: middle;\n",
       "    }\n",
       "\n",
       "    .dataframe tbody tr th {\n",
       "        vertical-align: top;\n",
       "    }\n",
       "\n",
       "    .dataframe thead th {\n",
       "        text-align: right;\n",
       "    }\n",
       "</style>\n",
       "<table border=\"1\" class=\"dataframe\">\n",
       "  <thead>\n",
       "    <tr style=\"text-align: right;\">\n",
       "      <th></th>\n",
       "      <th>card1</th>\n",
       "      <th>card2</th>\n",
       "      <th>addr1</th>\n",
       "      <th>addr2</th>\n",
       "    </tr>\n",
       "  </thead>\n",
       "  <tbody>\n",
       "    <tr>\n",
       "      <th>0</th>\n",
       "      <td>13926</td>\n",
       "      <td>NaN</td>\n",
       "      <td>315.0</td>\n",
       "      <td>87.0</td>\n",
       "    </tr>\n",
       "    <tr>\n",
       "      <th>1</th>\n",
       "      <td>2755</td>\n",
       "      <td>404.0</td>\n",
       "      <td>325.0</td>\n",
       "      <td>87.0</td>\n",
       "    </tr>\n",
       "    <tr>\n",
       "      <th>2</th>\n",
       "      <td>4663</td>\n",
       "      <td>490.0</td>\n",
       "      <td>330.0</td>\n",
       "      <td>87.0</td>\n",
       "    </tr>\n",
       "    <tr>\n",
       "      <th>3</th>\n",
       "      <td>18132</td>\n",
       "      <td>567.0</td>\n",
       "      <td>476.0</td>\n",
       "      <td>87.0</td>\n",
       "    </tr>\n",
       "    <tr>\n",
       "      <th>4</th>\n",
       "      <td>4497</td>\n",
       "      <td>514.0</td>\n",
       "      <td>420.0</td>\n",
       "      <td>87.0</td>\n",
       "    </tr>\n",
       "  </tbody>\n",
       "</table>\n",
       "</div>"
      ],
      "text/plain": [
       "   card1  card2  addr1  addr2\n",
       "0  13926    NaN  315.0   87.0\n",
       "1   2755  404.0  325.0   87.0\n",
       "2   4663  490.0  330.0   87.0\n",
       "3  18132  567.0  476.0   87.0\n",
       "4   4497  514.0  420.0   87.0"
      ]
     },
     "execution_count": 116,
     "metadata": {},
     "output_type": "execute_result"
    }
   ],
   "source": [
    "train[['card1', 'card2','addr1','addr2']].head()"
   ]
  },
  {
   "cell_type": "code",
   "execution_count": 7,
   "metadata": {},
   "outputs": [],
   "source": [
    "# Compress data\n",
    "# https://pythonspeed.com/articles/pandas-load-less-data/\n",
    "\n",
    "def reduce_memory_nostr(df):\n",
    "    \"\"\"The objective of this function is to reduce numeric column memory usage\"\"\"\n",
    "    for column in df.columns:\n",
    "        # ignore strings\n",
    "        if df[column].dtype =='int64':\n",
    "            max_val = df[column].max()\n",
    "            min_val = df[column].min()\n",
    "            \n",
    "            # compress to either int8, int16\n",
    "            # int8 compression if data within -128 to 127\n",
    "            if max_val<=127 and min_val>=-127:\n",
    "                df[column] = df[column].astype(\"int8\")\n",
    "            # int16 compression if data within -32768 to 32767\n",
    "            if max_val<=32767 and min_val>=-32768:\n",
    "                df[column] = df[column].astype(\"int16\")\n",
    "            \n",
    "        elif df[column].dtype =='float64':\n",
    "            df[column] = df[column].astype('float32')\n",
    "        else:\n",
    "            pass\n",
    "    return df\n"
   ]
  },
  {
   "cell_type": "code",
   "execution_count": 8,
   "metadata": {},
   "outputs": [
    {
     "name": "stdout",
     "output_type": "stream",
     "text": [
      "<class 'pandas.core.frame.DataFrame'>\n",
      "RangeIndex: 590540 entries, 0 to 590539\n",
      "Columns: 434 entries, TransactionID to DeviceInfo\n",
      "dtypes: float32(399), int16(2), int64(2), object(31)\n",
      "memory usage: 1.0+ GB\n"
     ]
    }
   ],
   "source": [
    "# Reduce memory usage for train\n",
    "train_r = reduce_memory_nostr(train)\n",
    "train_r.info()"
   ]
  },
  {
   "cell_type": "code",
   "execution_count": 87,
   "metadata": {},
   "outputs": [
    {
     "name": "stdout",
     "output_type": "stream",
     "text": [
      "X_train Shape :  (590540, 433)\n",
      "Y_train Shape :  (590540, 1)\n"
     ]
    }
   ],
   "source": [
    "X_train_int = train_r.loc[:, ~train_r.columns.isin(['isFraud'])]\n",
    "Y_train = train_r.loc[:, train_r.columns.isin(['isFraud'])]\n",
    "print(\"X_train Shape : \", X_train_int.shape)\n",
    "print(\"Y_train Shape : \", Y_train.shape)"
   ]
  },
  {
   "cell_type": "code",
   "execution_count": 88,
   "metadata": {},
   "outputs": [
    {
     "name": "stdout",
     "output_type": "stream",
     "text": [
      "{'id_01': 'id_01', 'id_02': 'id_02', 'id_03': 'id_03', 'id_04': 'id_04', 'id_05': 'id_05', 'id_06': 'id_06', 'id_07': 'id_07', 'id_08': 'id_08', 'id_09': 'id_09', 'id_10': 'id_10', 'id_11': 'id_11', 'id_12': 'id_12', 'id_13': 'id_13', 'id_14': 'id_14', 'id_15': 'id_15', 'id_16': 'id_16', 'id_17': 'id_17', 'id_18': 'id_18', 'id_19': 'id_19', 'id_20': 'id_20', 'id_21': 'id_21', 'id_22': 'id_22', 'id_23': 'id_23', 'id_24': 'id_24', 'id_25': 'id_25', 'id_26': 'id_26', 'id_27': 'id_27', 'id_28': 'id_28', 'id_29': 'id_29', 'id_30': 'id_30', 'id_31': 'id_31', 'id_32': 'id_32', 'id_33': 'id_33', 'id_34': 'id_34', 'id_35': 'id_35', 'id_36': 'id_36', 'id_37': 'id_37', 'id_38': 'id_38'}\n",
      "<class 'pandas.core.frame.DataFrame'>\n",
      "RangeIndex: 506691 entries, 0 to 506690\n",
      "Columns: 433 entries, TransactionID to DeviceInfo\n",
      "dtypes: float32(399), int16(1), int64(2), object(31)\n",
      "memory usage: 899.8+ MB\n"
     ]
    }
   ],
   "source": [
    "# Reduce memory usage for test\n",
    "test_r = reduce_memory_nostr(test)\n",
    "# Rename Id columns as they are not consistent\n",
    "col_dict = {}\n",
    "for column in test_r.columns:\n",
    "    if column.startswith( 'id' ):\n",
    "        col_dict[column] = column.replace(\"-\",\"_\")\n",
    "print(col_dict)\n",
    "test_r.rename(columns=col_dict,  inplace = True)\n",
    "X_test_int = test_r.copy()\n",
    "test_r.info()\n"
   ]
  },
  {
   "cell_type": "code",
   "execution_count": 114,
   "metadata": {},
   "outputs": [
    {
     "data": {
      "text/html": [
       "<div>\n",
       "<style scoped>\n",
       "    .dataframe tbody tr th:only-of-type {\n",
       "        vertical-align: middle;\n",
       "    }\n",
       "\n",
       "    .dataframe tbody tr th {\n",
       "        vertical-align: top;\n",
       "    }\n",
       "\n",
       "    .dataframe thead th {\n",
       "        text-align: right;\n",
       "    }\n",
       "</style>\n",
       "<table border=\"1\" class=\"dataframe\">\n",
       "  <thead>\n",
       "    <tr style=\"text-align: right;\">\n",
       "      <th></th>\n",
       "      <th>card1</th>\n",
       "      <th>card2</th>\n",
       "      <th>addr1</th>\n",
       "      <th>addr2</th>\n",
       "    </tr>\n",
       "  </thead>\n",
       "  <tbody>\n",
       "    <tr>\n",
       "      <th>0</th>\n",
       "      <td>13926</td>\n",
       "      <td>NaN</td>\n",
       "      <td>315.0</td>\n",
       "      <td>87.0</td>\n",
       "    </tr>\n",
       "    <tr>\n",
       "      <th>1</th>\n",
       "      <td>2755</td>\n",
       "      <td>404.0</td>\n",
       "      <td>325.0</td>\n",
       "      <td>87.0</td>\n",
       "    </tr>\n",
       "    <tr>\n",
       "      <th>2</th>\n",
       "      <td>4663</td>\n",
       "      <td>490.0</td>\n",
       "      <td>330.0</td>\n",
       "      <td>87.0</td>\n",
       "    </tr>\n",
       "    <tr>\n",
       "      <th>3</th>\n",
       "      <td>18132</td>\n",
       "      <td>567.0</td>\n",
       "      <td>476.0</td>\n",
       "      <td>87.0</td>\n",
       "    </tr>\n",
       "    <tr>\n",
       "      <th>4</th>\n",
       "      <td>4497</td>\n",
       "      <td>514.0</td>\n",
       "      <td>420.0</td>\n",
       "      <td>87.0</td>\n",
       "    </tr>\n",
       "  </tbody>\n",
       "</table>\n",
       "</div>"
      ],
      "text/plain": [
       "   card1  card2  addr1  addr2\n",
       "0  13926    NaN  315.0   87.0\n",
       "1   2755  404.0  325.0   87.0\n",
       "2   4663  490.0  330.0   87.0\n",
       "3  18132  567.0  476.0   87.0\n",
       "4   4497  514.0  420.0   87.0"
      ]
     },
     "execution_count": 114,
     "metadata": {},
     "output_type": "execute_result"
    }
   ],
   "source": [
    "X_train_int[['card1', 'card2','addr1','addr2']].head()\n"
   ]
  },
  {
   "cell_type": "code",
   "execution_count": 89,
   "metadata": {},
   "outputs": [
    {
     "name": "stdout",
     "output_type": "stream",
     "text": [
      "X_train_tranid Shape :  (590540, 1)\n",
      "X_test_tranid Shape :  (506691, 1)\n",
      "X_train Shape :  (590540, 433)\n",
      "X_test Shape :  (506691, 433)\n"
     ]
    }
   ],
   "source": [
    "# Check the train dataset and preprocess it\n",
    "from sklearn.preprocessing import StandardScaler\n",
    "from category_encoders import TargetEncoder\n",
    "columns_to_remove = []\n",
    "\n",
    "# Step 1 : Check for empty columns and delete them (more than 50 % empty) \n",
    "def find_empty_cols(df):\n",
    "    empty_cols = []\n",
    "    for column in df.columns:\n",
    "        if df[column].isna().sum()/len(df[column])>=0.5:\n",
    "            empty_cols.append(column)\n",
    "    return empty_cols\n",
    "    \n",
    "# Step 2 : Check for columns with constant values \n",
    "def find_constant_cols(df):\n",
    "    const_cols = []\n",
    "    for column in df.columns:\n",
    "        if len(df[column].unique())==1:\n",
    "            const_cols.append(column)\n",
    "    return const_cols       \n",
    "    \n",
    "# Step 3 : Scale numeric values\n",
    "def scale_features(df):\n",
    "    scaler = StandardScaler()\n",
    "    num_cols = []\n",
    "    for column in df.columns:\n",
    "        if df[column].dtype!='object':\n",
    "            num_cols.append(column)\n",
    "            \n",
    "    df[num_cols] = scaler.fit_transform(df[num_cols])\n",
    "    return df\n",
    "\n",
    "# Step 4.1 : Train Target Encoding\n",
    "def target_encoding(df, y):\n",
    "    cols = []\n",
    "    for column in df.columns:\n",
    "        if df[column].dtype=='object':\n",
    "            cols.append(column)\n",
    "    model_te = TargetEncoder()\n",
    "    df[cols] = model_te.fit_transform(df[cols],y)\n",
    "    return df, model_te\n",
    "            \n",
    "# Step 4.1 : Test Target Encoding\n",
    "def target_encoding_test(df, model_te):\n",
    "    cols = []\n",
    "    for column in df.columns:\n",
    "        if df[column].dtype=='object':\n",
    "            cols.append(column)\n",
    "    df[cols] = model_te.transform(df[cols])\n",
    "    return df\n",
    "\n",
    "# Step 5 : fill nulls in the data\n",
    "def fill_na(df):\n",
    "    for column in df.columns:\n",
    "        if df[column].dtype=='object':\n",
    "            df[column].fillna(df[column].mode(), inplace=True)\n",
    "        else:\n",
    "            df[column].fillna(df[column].mean(), inplace=True)\n",
    "    return df\n",
    "\n",
    "# drop the empty and const val columns\n",
    "empty_cols = find_empty_cols(X_train_int)\n",
    "const_cols = find_constant_cols(X_train_int)\n",
    "columns_to_remove.extend(empty_cols)\n",
    "columns_to_remove.extend(const_cols)\n",
    "columns_to_remove.append('TransactionID')\n",
    "\n",
    "# Keep Transaction ID aside\n",
    "X_train_tranid = X_train_int.loc[:, X_train_int.columns.isin(['TransactionID'])]\n",
    "X_test_tranid = X_test_int.loc[:, X_test_int.columns.isin(['TransactionID'])]\n",
    "print(\"X_train_tranid Shape : \", X_train_tranid.shape)\n",
    "print(\"X_test_tranid Shape : \", X_test_tranid.shape)\n",
    "\n",
    "print(\"X_train Shape : \", X_train_int.shape)\n",
    "print(\"X_test Shape : \", X_test_int.shape)"
   ]
  },
  {
   "cell_type": "code",
   "execution_count": 96,
   "metadata": {},
   "outputs": [
    {
     "name": "stdout",
     "output_type": "stream",
     "text": [
      "X_train Shape :  (590540, 218)\n",
      "X_test Shape :  (506691, 218)\n"
     ]
    }
   ],
   "source": [
    "X_train = X_train_int.loc[:, ~X_train_int.columns.isin(columns_to_remove)]\n",
    "X_test = X_test_int.loc[:, ~X_test_int.columns.isin(columns_to_remove)]\n",
    "print(\"X_train Shape : \", X_train.shape)\n",
    "print(\"X_test Shape : \", X_test.shape)"
   ]
  },
  {
   "cell_type": "code",
   "execution_count": 97,
   "metadata": {},
   "outputs": [
    {
     "name": "stderr",
     "output_type": "stream",
     "text": [
      "/Users/prabhatturlapati/opt/anaconda3/lib/python3.7/site-packages/pandas/core/series.py:4439: SettingWithCopyWarning: \n",
      "A value is trying to be set on a copy of a slice from a DataFrame\n",
      "\n",
      "See the caveats in the documentation: https://pandas.pydata.org/pandas-docs/stable/user_guide/indexing.html#returning-a-view-versus-a-copy\n",
      "  downcast=downcast,\n",
      "/Users/prabhatturlapati/opt/anaconda3/lib/python3.7/site-packages/category_encoders/utils.py:21: FutureWarning: is_categorical is deprecated and will be removed in a future version.  Use is_categorical_dtype instead\n",
      "  elif pd.api.types.is_categorical(cols):\n",
      "/Users/prabhatturlapati/opt/anaconda3/lib/python3.7/site-packages/pandas/core/frame.py:3188: SettingWithCopyWarning: \n",
      "A value is trying to be set on a copy of a slice from a DataFrame.\n",
      "Try using .loc[row_indexer,col_indexer] = value instead\n",
      "\n",
      "See the caveats in the documentation: https://pandas.pydata.org/pandas-docs/stable/user_guide/indexing.html#returning-a-view-versus-a-copy\n",
      "  self[k1] = value[k2]\n",
      "/Users/prabhatturlapati/opt/anaconda3/lib/python3.7/site-packages/pandas/core/series.py:4439: SettingWithCopyWarning: \n",
      "A value is trying to be set on a copy of a slice from a DataFrame\n",
      "\n",
      "See the caveats in the documentation: https://pandas.pydata.org/pandas-docs/stable/user_guide/indexing.html#returning-a-view-versus-a-copy\n",
      "  downcast=downcast,\n"
     ]
    }
   ],
   "source": [
    "# Preprocess the X_train and X_test data\n",
    "X_train = fill_na(X_train)\n",
    "# X_train = scale_features(X_train)\n",
    "X_train,model_te = target_encoding(X_train,Y_train)\n",
    "\n",
    "\n",
    "# Preprocess Test (target encoding is using the TE model used for train)\n",
    "X_test = fill_na(X_test)\n",
    "# X_test = scale_features(X_test)\n",
    "X_test = target_encoding_test(X_test, model_te)\n",
    "\n"
   ]
  },
  {
   "cell_type": "code",
   "execution_count": 98,
   "metadata": {},
   "outputs": [
    {
     "name": "stdout",
     "output_type": "stream",
     "text": [
      "Class Balance\n",
      "Total Fraud :  20663\n",
      "Total Not Fraud :  569877\n",
      "Ratio of Fraud/Not Fraud  0.03625870143908247\n",
      "Only 3.625870143908247 percent is fraud, hence the dataset is imbalanced \n"
     ]
    }
   ],
   "source": [
    "print(\"Class Balance\")\n",
    "print(\"Total Fraud : \", len(Y_train.loc[Y_train['isFraud']==1]))\n",
    "print(\"Total Not Fraud : \", len(Y_train.loc[Y_train['isFraud']==0]))\n",
    "print(\"Ratio of Fraud/Not Fraud \", len(Y_train.loc[Y_train['isFraud']==1])/ len(Y_train.loc[Y_train['isFraud']==0]))\n",
    "print(\"Only %s percent is fraud, hence the dataset is imbalanced \"%(100*len(Y_train.loc[Y_train['isFraud']==1])/ len(Y_train.loc[Y_train['isFraud']==0])))\n",
    "\n",
    "\n",
    "\n",
    "\n",
    "\n"
   ]
  },
  {
   "cell_type": "code",
   "execution_count": 99,
   "metadata": {},
   "outputs": [
    {
     "name": "stderr",
     "output_type": "stream",
     "text": [
      "/Users/prabhatturlapati/opt/anaconda3/lib/python3.7/site-packages/pandas/core/frame.py:4446: SettingWithCopyWarning: \n",
      "A value is trying to be set on a copy of a slice from a DataFrame\n",
      "\n",
      "See the caveats in the documentation: https://pandas.pydata.org/pandas-docs/stable/user_guide/indexing.html#returning-a-view-versus-a-copy\n",
      "  errors=errors,\n"
     ]
    }
   ],
   "source": [
    "# Feature Selection and reduction\n",
    "profile = pp.ProfileReport(X_train, minimal=True)"
   ]
  },
  {
   "cell_type": "code",
   "execution_count": 100,
   "metadata": {},
   "outputs": [],
   "source": [
    "# profile"
   ]
  },
  {
   "cell_type": "code",
   "execution_count": 101,
   "metadata": {},
   "outputs": [
    {
     "name": "stdout",
     "output_type": "stream",
     "text": [
      "[0.95255442] [[-578.9837 ]\n",
      " [-752.82965]\n",
      " [-752.82965]\n",
      " ...\n",
      " [-752.82983]\n",
      " [2036.6052 ]\n",
      " [-236.20943]]\n"
     ]
    },
    {
     "name": "stderr",
     "output_type": "stream",
     "text": [
      "/Users/prabhatturlapati/opt/anaconda3/lib/python3.7/site-packages/pandas/core/frame.py:4312: SettingWithCopyWarning: \n",
      "A value is trying to be set on a copy of a slice from a DataFrame\n",
      "\n",
      "See the caveats in the documentation: https://pandas.pydata.org/pandas-docs/stable/user_guide/indexing.html#returning-a-view-versus-a-copy\n",
      "  errors=errors,\n",
      "/Users/prabhatturlapati/opt/anaconda3/lib/python3.7/site-packages/ipykernel_launcher.py:14: SettingWithCopyWarning: \n",
      "A value is trying to be set on a copy of a slice from a DataFrame.\n",
      "Try using .loc[row_indexer,col_indexer] = value instead\n",
      "\n",
      "See the caveats in the documentation: https://pandas.pydata.org/pandas-docs/stable/user_guide/indexing.html#returning-a-view-versus-a-copy\n",
      "  \n",
      "/Users/prabhatturlapati/opt/anaconda3/lib/python3.7/site-packages/pandas/core/frame.py:4312: SettingWithCopyWarning: \n",
      "A value is trying to be set on a copy of a slice from a DataFrame\n",
      "\n",
      "See the caveats in the documentation: https://pandas.pydata.org/pandas-docs/stable/user_guide/indexing.html#returning-a-view-versus-a-copy\n",
      "  errors=errors,\n",
      "/Users/prabhatturlapati/opt/anaconda3/lib/python3.7/site-packages/ipykernel_launcher.py:19: SettingWithCopyWarning: \n",
      "A value is trying to be set on a copy of a slice from a DataFrame.\n",
      "Try using .loc[row_indexer,col_indexer] = value instead\n",
      "\n",
      "See the caveats in the documentation: https://pandas.pydata.org/pandas-docs/stable/user_guide/indexing.html#returning-a-view-versus-a-copy\n"
     ]
    },
    {
     "name": "stdout",
     "output_type": "stream",
     "text": [
      "[0.99890536] [[-578.9837 ]\n",
      " [-752.82965]\n",
      " [-752.82965]\n",
      " ...\n",
      " [-752.82983]\n",
      " [2036.6052 ]\n",
      " [-236.20943]]\n"
     ]
    },
    {
     "name": "stderr",
     "output_type": "stream",
     "text": [
      "/Users/prabhatturlapati/opt/anaconda3/lib/python3.7/site-packages/pandas/core/frame.py:4312: SettingWithCopyWarning: \n",
      "A value is trying to be set on a copy of a slice from a DataFrame\n",
      "\n",
      "See the caveats in the documentation: https://pandas.pydata.org/pandas-docs/stable/user_guide/indexing.html#returning-a-view-versus-a-copy\n",
      "  errors=errors,\n",
      "/Users/prabhatturlapati/opt/anaconda3/lib/python3.7/site-packages/ipykernel_launcher.py:32: SettingWithCopyWarning: \n",
      "A value is trying to be set on a copy of a slice from a DataFrame.\n",
      "Try using .loc[row_indexer,col_indexer] = value instead\n",
      "\n",
      "See the caveats in the documentation: https://pandas.pydata.org/pandas-docs/stable/user_guide/indexing.html#returning-a-view-versus-a-copy\n",
      "/Users/prabhatturlapati/opt/anaconda3/lib/python3.7/site-packages/pandas/core/frame.py:4312: SettingWithCopyWarning: \n",
      "A value is trying to be set on a copy of a slice from a DataFrame\n",
      "\n",
      "See the caveats in the documentation: https://pandas.pydata.org/pandas-docs/stable/user_guide/indexing.html#returning-a-view-versus-a-copy\n",
      "  errors=errors,\n",
      "/Users/prabhatturlapati/opt/anaconda3/lib/python3.7/site-packages/ipykernel_launcher.py:37: SettingWithCopyWarning: \n",
      "A value is trying to be set on a copy of a slice from a DataFrame.\n",
      "Try using .loc[row_indexer,col_indexer] = value instead\n",
      "\n",
      "See the caveats in the documentation: https://pandas.pydata.org/pandas-docs/stable/user_guide/indexing.html#returning-a-view-versus-a-copy\n"
     ]
    }
   ],
   "source": [
    "# Reduce features that done explain much. Use PCA to do this. We can implement this partially as well.\n",
    "\n",
    "\n",
    "# Perform PCA on V features\n",
    "import numpy as np\n",
    "from sklearn.decomposition import PCA\n",
    "pca_v = PCA(n_components=1)\n",
    "pca_v.fit(X_train.loc[:,v_cols])\n",
    "X_pca_v = pca_v.transform(X_train.loc[:,v_cols])\n",
    "print(pca_v.explained_variance_ratio_, X_pca_v)\n",
    "\n",
    "# Drop all the V columns and add the PC to the X_train dataset\n",
    "X_train.drop(columns = v_cols, inplace=True)\n",
    "X_train['v_pc'] = X_pca_v\n",
    "\n",
    "# Similar operation is to be done on test\n",
    "X_test_pca_v = pca_v.transform(X_test.loc[:,v_cols])\n",
    "X_test.drop(columns = v_cols, inplace=True)\n",
    "X_test['v_pc'] = X_test_pca_v\n",
    "\n",
    "\n",
    "\n",
    "### card columns\n",
    "card_cols = [x for x in X_train.columns if x.startswith(\"card\")]\n",
    "pca_card = PCA(n_components=1)\n",
    "pca_card.fit(X_train.loc[:,card_cols])\n",
    "X_pca_card = pca_card.transform(X_train.loc[:,card_cols])\n",
    "print(pca_card.explained_variance_ratio_, X_pca_card)\n",
    "\n",
    "# Drop all the card columns and add the PC to the X_train dataset\n",
    "X_train.drop(columns = card_cols, inplace=True)\n",
    "X_train['card_pc'] = X_pca_card\n",
    "\n",
    "# Similar operation is to be done on test\n",
    "X_test_pca_card = pca_card.transform(X_test.loc[:,card_cols])\n",
    "X_test.drop(columns = card_cols, inplace=True)\n",
    "X_test['card_pc'] = X_test_pca_card\n"
   ]
  },
  {
   "cell_type": "code",
   "execution_count": 102,
   "metadata": {},
   "outputs": [
    {
     "name": "stdout",
     "output_type": "stream",
     "text": [
      "<class 'pandas.core.frame.DataFrame'>\n",
      "RangeIndex: 506691 entries, 0 to 506690\n",
      "Data columns (total 34 columns):\n",
      " #   Column          Non-Null Count   Dtype  \n",
      "---  ------          --------------   -----  \n",
      " 0   TransactionDT   506691 non-null  int64  \n",
      " 1   TransactionAmt  506691 non-null  float32\n",
      " 2   ProductCD       506691 non-null  float64\n",
      " 3   addr1           506691 non-null  float32\n",
      " 4   addr2           506691 non-null  float32\n",
      " 5   P_emaildomain   506691 non-null  float64\n",
      " 6   C1              506691 non-null  float32\n",
      " 7   C2              506691 non-null  float32\n",
      " 8   C3              506691 non-null  float32\n",
      " 9   C4              506691 non-null  float32\n",
      " 10  C5              506691 non-null  float32\n",
      " 11  C6              506691 non-null  float32\n",
      " 12  C7              506691 non-null  float32\n",
      " 13  C8              506691 non-null  float32\n",
      " 14  C9              506691 non-null  float32\n",
      " 15  C10             506691 non-null  float32\n",
      " 16  C11             506691 non-null  float32\n",
      " 17  C12             506691 non-null  float32\n",
      " 18  C13             506691 non-null  float32\n",
      " 19  C14             506691 non-null  float32\n",
      " 20  D1              506691 non-null  float32\n",
      " 21  D2              506691 non-null  float32\n",
      " 22  D3              506691 non-null  float32\n",
      " 23  D4              506691 non-null  float32\n",
      " 24  D10             506691 non-null  float32\n",
      " 25  D11             506691 non-null  float32\n",
      " 26  D15             506691 non-null  float32\n",
      " 27  M1              506691 non-null  float64\n",
      " 28  M2              506691 non-null  float64\n",
      " 29  M3              506691 non-null  float64\n",
      " 30  M4              506691 non-null  float64\n",
      " 31  M6              506691 non-null  float64\n",
      " 32  v_pc            506691 non-null  float32\n",
      " 33  card_pc         506691 non-null  float64\n",
      "dtypes: float32(25), float64(8), int64(1)\n",
      "memory usage: 83.1 MB\n"
     ]
    }
   ],
   "source": [
    "X_test.info()"
   ]
  },
  {
   "cell_type": "code",
   "execution_count": 117,
   "metadata": {},
   "outputs": [
    {
     "name": "stdout",
     "output_type": "stream",
     "text": [
      "F1 scores: 0.721 (0.006)\n"
     ]
    }
   ],
   "source": [
    "# Use a model with K-Fold Cross validation\n",
    "\n",
    "from sklearn.linear_model import LogisticRegression\n",
    "from sklearn.model_selection import cross_val_score\n",
    "from sklearn.model_selection import KFold\n",
    "from numpy import mean\n",
    "from numpy import std\n",
    "import xgboost as xgb\n",
    "from sklearn.ensemble import GradientBoostingClassifier\n",
    "from sklearn.model_selection import StratifiedShuffleSplit\n",
    "\n",
    "model_lr = LogisticRegression()\n",
    "# model_xgb = GradientBoostingClassifier(n_estimators=100)\n",
    "model_xgb = xgb.XGBClassifier(n_estimators = 500, eval_metric = 'auc')\n",
    "# cv = KFold(n_splits=2, random_state=2)\n",
    "cv = StratifiedShuffleSplit(n_splits=5, test_size=0.2, random_state=1)\n",
    "\n",
    "scores = cross_val_score(model_xgb, X_train, Y_train, scoring='f1', cv=cv, n_jobs=-1)\n",
    "print('F1 scores: %.3f (%.3f)' % (mean(scores), std(scores)))"
   ]
  },
  {
   "cell_type": "code",
   "execution_count": null,
   "metadata": {},
   "outputs": [
    {
     "name": "stderr",
     "output_type": "stream",
     "text": [
      "/Users/prabhatturlapati/opt/anaconda3/lib/python3.7/site-packages/xgboost/sklearn.py:888: UserWarning: The use of label encoder in XGBClassifier is deprecated and will be removed in a future release. To remove this warning, do the following: 1) Pass option use_label_encoder=False when constructing XGBClassifier object; and 2) Encode your labels (y) as integers starting with 0, i.e. 0, 1, 2, ..., [num_class - 1].\n",
      "  warnings.warn(label_encoder_deprecation_msg, UserWarning)\n",
      "/Users/prabhatturlapati/opt/anaconda3/lib/python3.7/site-packages/sklearn/utils/validation.py:72: DataConversionWarning: A column-vector y was passed when a 1d array was expected. Please change the shape of y to (n_samples, ), for example using ravel().\n",
      "  return f(**kwargs)\n"
     ]
    }
   ],
   "source": [
    "model_xgb.fit(X_train, Y_train)"
   ]
  },
  {
   "cell_type": "code",
   "execution_count": null,
   "metadata": {},
   "outputs": [],
   "source": [
    "y_preds = model_xgb.predict(X_test)"
   ]
  },
  {
   "cell_type": "code",
   "execution_count": null,
   "metadata": {},
   "outputs": [],
   "source": []
  }
 ],
 "metadata": {
  "kernelspec": {
   "display_name": "Python 3",
   "language": "python",
   "name": "python3"
  },
  "language_info": {
   "codemirror_mode": {
    "name": "ipython",
    "version": 3
   },
   "file_extension": ".py",
   "mimetype": "text/x-python",
   "name": "python",
   "nbconvert_exporter": "python",
   "pygments_lexer": "ipython3",
   "version": "3.7.9"
  }
 },
 "nbformat": 4,
 "nbformat_minor": 4
}
